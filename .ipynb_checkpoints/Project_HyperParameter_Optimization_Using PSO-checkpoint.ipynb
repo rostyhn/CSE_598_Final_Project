{
 "cells": [
  {
   "cell_type": "markdown",
   "id": "38f4faa4",
   "metadata": {},
   "source": [
    "# Hyperparameter Optimization with PSO"
   ]
  },
  {
   "cell_type": "code",
   "execution_count": 2,
   "id": "6aa9ba21",
   "metadata": {},
   "outputs": [],
   "source": [
    "using Flux\n",
    "using MLDatasets\n",
    "using Random\n",
    "using LinearAlgebra"
   ]
  },
  {
   "cell_type": "code",
   "execution_count": 3,
   "id": "d8031904",
   "metadata": {},
   "outputs": [],
   "source": [
    "train_x, train_y = CIFAR10.traindata(Float32, 1:100)\n",
    "test_x, test_y = CIFAR10.testdata(Float32, 1:100);"
   ]
  },
  {
   "cell_type": "code",
   "execution_count": 4,
   "id": "0d969fb8",
   "metadata": {},
   "outputs": [],
   "source": [
    "train_y, test_y = Flux.onehotbatch(train_y, 0:9), Flux.onehotbatch(test_y, 0:9);"
   ]
  },
  {
   "cell_type": "code",
   "execution_count": 5,
   "id": "7a831481",
   "metadata": {},
   "outputs": [
    {
     "data": {
      "text/plain": [
       "loss_and_accuracy (generic function with 1 method)"
      ]
     },
     "execution_count": 5,
     "metadata": {},
     "output_type": "execute_result"
    }
   ],
   "source": [
    "function loss_and_accuracy(udata, wdata, model)\n",
    "    ndata = size(udata,4)\n",
    "    ŵ = model(udata)\n",
    "    loss = Flux.crossentropy(ŵ, wdata; agg=sum)\n",
    "    accuracy = sum(Flux.onecold(ŵ) .== Flux.onecold(wdata)) / ndata\n",
    "    return loss, accuracy\n",
    "end"
   ]
  },
  {
   "cell_type": "code",
   "execution_count": 6,
   "id": "7e944163",
   "metadata": {},
   "outputs": [],
   "source": [
    "batch_size = 10\n",
    "train_loader = Flux.Data.DataLoader((train_x, train_y), batchsize=batch_size, shuffle=true);"
   ]
  },
  {
   "cell_type": "code",
   "execution_count": 7,
   "id": "a0752f43",
   "metadata": {},
   "outputs": [],
   "source": [
    "mutable struct Particle \n",
    "    position::Vector{Int}\n",
    "    best_position::Vector{Int}\n",
    "    best_loss::Float32\n",
    "    velocity::Vector{Float32}\n",
    "    idx::Int\n",
    "end"
   ]
  },
  {
   "cell_type": "code",
   "execution_count": 8,
   "id": "d6c633e5",
   "metadata": {},
   "outputs": [
    {
     "data": {
      "text/plain": [
       "hyper_parameterized (generic function with 1 method)"
      ]
     },
     "execution_count": 8,
     "metadata": {},
     "output_type": "execute_result"
    }
   ],
   "source": [
    "function hyper_parameterized(particle)\n",
    "    model_before_dense = Chain(\n",
    "              Conv((particle.position[1],particle.position[1]), 3=>particle.position[2], relu, pad=SamePad()),\n",
    "              Conv((particle.position[3],particle.position[3]), particle.position[2]=>particle.position[4], relu, pad=SamePad()),\n",
    "              MaxPool((particle.position[5],particle.position[5])),\n",
    "              Dropout(0.2),\n",
    "              Conv((particle.position[6],particle.position[6]), particle.position[4]=>particle.position[7], relu, pad=SamePad()),\n",
    "              Conv((particle.position[8],particle.position[8]), particle.position[7]=>particle.position[9], relu, pad=SamePad()),\n",
    "              MaxPool((particle.position[10],particle.position[10])),\n",
    "              Dropout(0.2),\n",
    "              Conv((particle.position[11],particle.position[11]), particle.position[9]=>particle.position[12], relu, pad=SamePad()),\n",
    "              Conv((particle.position[13],particle.position[13]), particle.position[12]=>particle.position[14], relu, pad=SamePad()),\n",
    "              MaxPool((2,2)),\n",
    "              Dropout(0.2),\n",
    "              Flux.flatten)\n",
    "    last_size = model_before_dense(rand(Float32, 32, 32, 3, 1)) |> size\n",
    "    return Chain(\n",
    "              Conv((particle.position[1],particle.position[1]), 3=>particle.position[2], relu, pad=SamePad()),\n",
    "              Conv((particle.position[3],particle.position[3]), particle.position[2]=>particle.position[4], relu, pad=SamePad()),\n",
    "              MaxPool((particle.position[5],particle.position[5])),\n",
    "              Dropout(0.2),\n",
    "              Conv((particle.position[6],particle.position[6]), particle.position[4]=>particle.position[7], relu, pad=SamePad()),\n",
    "              Conv((particle.position[8],particle.position[8]), particle.position[7]=>particle.position[9], relu, pad=SamePad()),\n",
    "              MaxPool((particle.position[10],particle.position[10])),\n",
    "              Dropout(0.2),\n",
    "              Conv((particle.position[11],particle.position[11]), particle.position[9]=>particle.position[12], relu, pad=SamePad()),\n",
    "              Conv((particle.position[13],particle.position[13]), particle.position[12]=>particle.position[14], relu, pad=SamePad()),\n",
    "              MaxPool((2,2)),\n",
    "              Dropout(0.2),\n",
    "              Flux.flatten,\n",
    "              Dense(last_size[1], particle.position[15], relu),\n",
    "              Dropout(0.2),\n",
    "              Dense(particle.position[15],10),\n",
    "              softmax)\n",
    "end"
   ]
  },
  {
   "cell_type": "code",
   "execution_count": 9,
   "id": "2c8f2754",
   "metadata": {},
   "outputs": [
    {
     "data": {
      "text/plain": [
       "train (generic function with 1 method)"
      ]
     },
     "execution_count": 9,
     "metadata": {},
     "output_type": "execute_result"
    }
   ],
   "source": [
    "function train(model,train_loader,train_x,train_y,test_x,test_y,model_name)\n",
    "    test_loss = 0\n",
    "    test_acc = 0\n",
    "    opt = ADAM(0.001) \n",
    "    K = 3\n",
    "    println(\"Training $model_name architecture.\")\n",
    "    for k in 1:K\n",
    "        for (u, w) in train_loader\n",
    "            gs = gradient(() -> Flux.Losses.crossentropy(model(u), w), Flux.params(model)) # compute gradient\n",
    "            Flux.Optimise.update!(opt, Flux.params(model), gs) # update parameters\n",
    "        end\n",
    "        test_loss, test_acc = loss_and_accuracy(test_x, test_y, model)\n",
    "    end\n",
    "    return test_loss, test_acc\n",
    "end"
   ]
  },
  {
   "cell_type": "code",
   "execution_count": 14,
   "id": "5b174e61",
   "metadata": {},
   "outputs": [
    {
     "data": {
      "text/plain": [
       "hyper_parameter_optimization (generic function with 1 method)"
      ]
     },
     "execution_count": 14,
     "metadata": {},
     "output_type": "execute_result"
    }
   ],
   "source": [
    "function hyper_parameter_optimization(train_x, train_y, test_x, test_y, numparticles, ω, c1,c2)\n",
    "    lo = [2,1,2,1,2,2,1,2,1,2,2,2,2,2,10]\n",
    "    hi = [10,48,10,100,4,10,100,10,256,4,10,256,10,256,1000]\n",
    "    particles = []\n",
    "    best_loss = typemax(Int)\n",
    "    best_loss_previous = typemax(Int)\n",
    "    swarm_best_position = []\n",
    "    swarm_best_previous = []\n",
    "    # init particles - search space is 16 variables\n",
    "        #1   #2  #3   #4  #5   #6   #7  #8   #9  #10  #11  #12 #13 #14 #15\n",
    "    # [SF1, n1, SF2, n2, SP1, SF3, n3, SF4, n4, SP2, SF5, n5, SF6, n6, SD1]\n",
    "    for i in 1:numparticles\n",
    "        SF1 = rand(2:10)\n",
    "        n1 = rand(3:48)\n",
    "        SF2 = rand(2:10)\n",
    "        n2 = rand(n1:100)\n",
    "        SP1 = rand(2:4)\n",
    "        SF3 = rand(2:10)\n",
    "        n3 = rand(n2:100)\n",
    "        SF4 = rand(2:10)\n",
    "        n4 = rand(n3:256)\n",
    "        SP2 = rand(2:4)\n",
    "        SF5 = rand(2:10)\n",
    "        n5 = rand(n4:256)\n",
    "        SF6 = rand(2:10)\n",
    "        n6 = rand(n5:256)\n",
    "        SD1 = rand(10:1000)\n",
    "        push!(particles, Particle([SF1,n1,SF2,n2,SP1,SF3,n3,SF4,n4,SP2,SF5,n5,SF6,n6,SD1],\n",
    "                [SF1,n1,SF2,n2,SP1,SF3,n3,SF4,n4,SP2,SF5,n5,SF6,n6,SD1], 0, rand(Float32,15),i))\n",
    "    end\n",
    "    # find best model to work towards\n",
    "    for p in particles\n",
    "        m = hyper_parameterized(p)\n",
    "        this_loss = 0\n",
    "        for (u,w) in train_loader\n",
    "            this_loss, this_acc = loss_and_accuracy(train_x,train_y, m)\n",
    "        end\n",
    "        p.best_loss = this_loss\n",
    "        if p.best_loss < best_loss\n",
    "            best_loss = p.best_loss\n",
    "            best_loss_previous = best_loss\n",
    "            swarm_best_position = p.position \n",
    "            swarm_best_previous = p.position\n",
    "        end\n",
    "    end\n",
    "    \n",
    "    println(\"Particles initalized\")\n",
    "    \n",
    "    for i in 1:10\n",
    "        for p in particles\n",
    "            # vector math for additional speed boost\n",
    "            # ω - inertia weight, how much the previous velocity impacts the current position\n",
    "            # c1 - how much the particle pays attention to its own best position\n",
    "            # c2 - how much the particle pays attention to the swarm's best position\n",
    "            r1 = rand((0.0:1.0))\n",
    "            r2 = rand((0.0:1.0))\n",
    "            p.velocity = (ω .* p.velocity) .+ r1 * c1 .* (p.best_position .- p.position) .+ r2 * c2 .* (swarm_best_position .- p.position)\n",
    "            p.position = p.position + p.velocity\n",
    "            # ensure each position is between its hi and low\n",
    "            for (i,param) in enumerate(p.position)\n",
    "                p.position[i] = clamp(round(Int64,param), lo[i], hi[i])\n",
    "            end\n",
    "            model = hyper_parameterized(p)\n",
    "            this_loss, this_acc = train(model,train_loader,train_x,train_y,test_x,test_y,\"model $p.idx\")\n",
    "            println(\"Loss: $this_loss; Accuracy: $this_acc\")\n",
    "            if p.best_loss > this_loss\n",
    "                p.best_loss = this_loss\n",
    "                p.best_position = p.position\n",
    "                if best_loss > this_loss\n",
    "                    best_loss_previous = best_loss\n",
    "                    swarm_best_previous = swarm_best_position\n",
    "                    best_loss = this_loss\n",
    "                    swarm_best_position = p.position\n",
    "                    println(\"Changing accuracy to $best_loss\")\n",
    "                    if norm(swarm_best_position - swarm_best_previous) < 0.1\n",
    "                        return swarm_best_position\n",
    "                    end\n",
    "                    if best_loss - best_loss_previous < 0.1\n",
    "                        return swarm_best_position\n",
    "                    end\n",
    "                end\n",
    "            end\n",
    "        end\n",
    "    end\n",
    "    return swarm_best_position\n",
    "end"
   ]
  },
  {
   "cell_type": "code",
   "execution_count": null,
   "id": "e0c54a62",
   "metadata": {},
   "outputs": [],
   "source": [
    "b_p = hyper_parameter_optimization(train_x, train_y,test_x, test_y, 10, 0.7, 2.05, 2.05)"
   ]
  },
  {
   "cell_type": "code",
   "execution_count": null,
   "id": "01292368",
   "metadata": {},
   "outputs": [],
   "source": []
  }
 ],
 "metadata": {
  "kernelspec": {
   "display_name": "Julia 1.6.2",
   "language": "julia",
   "name": "julia-1.6"
  },
  "language_info": {
   "file_extension": ".jl",
   "mimetype": "application/julia",
   "name": "julia",
   "version": "1.6.3"
  }
 },
 "nbformat": 4,
 "nbformat_minor": 5
}
