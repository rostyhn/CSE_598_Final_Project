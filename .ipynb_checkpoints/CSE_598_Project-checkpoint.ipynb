{
 "cells": [
  {
   "cell_type": "code",
   "execution_count": 1,
   "metadata": {},
   "outputs": [],
   "source": [
    "using Pkg\n",
    "using Flux\n",
    "using MLDatasets"
   ]
  },
  {
   "cell_type": "code",
   "execution_count": 2,
   "metadata": {},
   "outputs": [],
   "source": [
    "train_x, train_y = CIFAR10.traindata(Float32, 1:10000)\n",
    "test_x, test_y = CIFAR10.testdata(Float32, 1:10000);"
   ]
  },
  {
   "cell_type": "code",
   "execution_count": 3,
   "metadata": {},
   "outputs": [
    {
     "name": "stdout",
     "output_type": "stream",
     "text": [
      "Size of each image: (32, 32, 3, 10000)\n",
      "Label of 50th training datapoint: 0\n"
     ]
    }
   ],
   "source": [
    "println(\"Size of each image: \", size(train_x))\n",
    "println(\"Label of 50th training datapoint: \", train_y[50])\n",
    "# So here we can see that each training point is a 3D array - a 32x32 image with 3 color channels"
   ]
  },
  {
   "cell_type": "code",
   "execution_count": 4,
   "metadata": {},
   "outputs": [
    {
     "name": "stdout",
     "output_type": "stream",
     "text": [
      "number of classes: 10\n"
     ]
    }
   ],
   "source": [
    "# Since this is a multi-class classification problem, we can use one hot encoding, just like the MNIST dataset.\n",
    "# There's 10 classes just like mnist, so we encode from 0 to 9\n",
    "\n",
    "train_y, test_y = Flux.onehotbatch(train_y, 0:9), Flux.onehotbatch(test_y, 0:9)\n",
    "nclasses = length(train_y[:,1])\n",
    "println(\"number of classes: \", nclasses)"
   ]
  },
  {
   "cell_type": "code",
   "execution_count": 5,
   "metadata": {},
   "outputs": [
    {
     "data": {
      "text/plain": [
       "Chain(\n",
       "  Conv((3, 3), 3 => 32, relu),          \u001b[90m# 896 parameters\u001b[39m\n",
       "  Conv((3, 3), 32 => 32, relu),         \u001b[90m# 9_248 parameters\u001b[39m\n",
       "  MaxPool((2, 2)),\n",
       "  Flux.flatten,\n",
       "  Dense(6272, 128),                     \u001b[90m# 802_944 parameters\u001b[39m\n",
       "  Dense(128, 10),                       \u001b[90m# 1_290 parameters\u001b[39m\n",
       "  NNlib.softmax,\n",
       ")\u001b[90m                   # Total: 8 arrays, \u001b[39m814_378 parameters, 3.108 MiB."
      ]
     },
     "execution_count": 5,
     "metadata": {},
     "output_type": "execute_result"
    }
   ],
   "source": [
    "# 1 VGG Block\n",
    "model_VGG1 = Chain(Conv((3,3), 3=>32, relu),\n",
    "              Conv((3,3), 32=>32, relu),\n",
    "              MaxPool((2,2)),\n",
    "              Flux.flatten,\n",
    "              Dense(6272, 128),\n",
    "              Dense(128,10),\n",
    "              softmax)"
   ]
  },
  {
   "cell_type": "code",
   "execution_count": 6,
   "metadata": {},
   "outputs": [
    {
     "data": {
      "text/plain": [
       "Chain(\n",
       "  Conv((3, 3), 3 => 32, relu),          \u001b[90m# 896 parameters\u001b[39m\n",
       "  Conv((3, 3), 32 => 32, relu),         \u001b[90m# 9_248 parameters\u001b[39m\n",
       "  MaxPool((2, 2)),\n",
       "  Conv((3, 3), 32 => 64, relu),         \u001b[90m# 18_496 parameters\u001b[39m\n",
       "  Conv((3, 3), 64 => 64, relu),         \u001b[90m# 36_928 parameters\u001b[39m\n",
       "  MaxPool((2, 2)),\n",
       "  Flux.flatten,\n",
       "  Dense(1600, 128),                     \u001b[90m# 204_928 parameters\u001b[39m\n",
       "  Dense(128, 10),                       \u001b[90m# 1_290 parameters\u001b[39m\n",
       "  NNlib.softmax,\n",
       ")\u001b[90m                   # Total: 12 arrays, \u001b[39m271_786 parameters, 1.039 MiB."
      ]
     },
     "execution_count": 6,
     "metadata": {},
     "output_type": "execute_result"
    }
   ],
   "source": [
    "# 2 VGG Block\n",
    "model_VGG2 = Chain(Conv((3,3), 3=>32, relu),\n",
    "              Conv((3,3), 32=>32, relu),\n",
    "              MaxPool((2,2)),\n",
    "              Conv((3,3), 32=>64, relu),\n",
    "              Conv((3,3), 64=>64, relu),\n",
    "              MaxPool((2,2)),\n",
    "              Flux.flatten,\n",
    "              Dense(1600, 128),\n",
    "              Dense(128,10),\n",
    "              softmax)"
   ]
  },
  {
   "cell_type": "code",
   "execution_count": 7,
   "metadata": {},
   "outputs": [
    {
     "data": {
      "text/plain": [
       "10×10000 Matrix{Float32}:\n",
       " 0.0949119  0.0964669  0.0981602  …  0.0989761  0.0950511  0.0975889\n",
       " 0.100601   0.0986537  0.098283      0.100724   0.101251   0.0989996\n",
       " 0.102874   0.103122   0.101029      0.0998586  0.1025     0.100506\n",
       " 0.101101   0.103294   0.102767      0.104538   0.102708   0.103506\n",
       " 0.105358   0.107742   0.104874      0.104966   0.106852   0.105607\n",
       " 0.105599   0.104343   0.103054   …  0.101636   0.103419   0.103327\n",
       " 0.103383   0.10146    0.0967931     0.0987216  0.100138   0.0995452\n",
       " 0.094803   0.0954987  0.0983299     0.0966073  0.09752    0.0965896\n",
       " 0.0929526  0.0921574  0.0968031     0.0959798  0.0936054  0.0944039\n",
       " 0.0984166  0.0972626  0.0999074     0.0979919  0.0969551  0.099927"
      ]
     },
     "execution_count": 7,
     "metadata": {},
     "output_type": "execute_result"
    }
   ],
   "source": [
    "# 3 VGG Block\n",
    "model_VGG3 = Chain(\n",
    "              Conv((3,3), 3=>32, relu),\n",
    "              Conv((3,3), 32=>32, relu),\n",
    "              MaxPool((2,2)),\n",
    "              Conv((3,3), 32=>64, relu),\n",
    "              Conv((3,3), 64=>64, relu),\n",
    "              MaxPool((2,2)),\n",
    "              Conv((3,3), 64=>128, relu),\n",
    "              Conv((3,3), 128=>128, relu),\n",
    "              #MaxPool((2,2)),\n",
    "              Flux.flatten,\n",
    "              Dense(128, 128),\n",
    "              Dense(128,10),\n",
    "              softmax)\n",
    "model_VGG3(train_x)"
   ]
  },
  {
   "cell_type": "code",
   "execution_count": 8,
   "metadata": {},
   "outputs": [
    {
     "name": "stdout",
     "output_type": "stream",
     "text": [
      "train_loss = 23090.205, train_accuracy = 0.1076\n",
      "test_loss = 23093.945, test_accuracy = 0.1008\n"
     ]
    }
   ],
   "source": [
    "function loss_and_accuracy(udata, wdata, model)\n",
    "\n",
    "    ndata = size(udata,4)\n",
    "\n",
    "    ŵ = model(udata)\n",
    "    loss = Flux.crossentropy(ŵ, wdata; agg=sum)\n",
    "    accuracy = sum(Flux.onecold(ŵ) .== Flux.onecold(wdata)) / ndata\n",
    "    return loss, accuracy\n",
    "end\n",
    "\n",
    "train_loss, train_acc = loss_and_accuracy(train_x,train_y,model_VGG2)\n",
    "test_loss, test_acc = loss_and_accuracy(test_x,test_y,model_VGG2)\n",
    "println(\"train_loss = $train_loss, train_accuracy = $train_acc\")\n",
    "println(\"test_loss = $test_loss, test_accuracy = $test_acc\")\n"
   ]
  },
  {
   "cell_type": "code",
   "execution_count": 9,
   "metadata": {},
   "outputs": [],
   "source": [
    "batch_size = 128\n",
    "train_loader = Flux.Data.DataLoader((train_x, train_y), batchsize=batch_size, shuffle=true);"
   ]
  },
  {
   "cell_type": "code",
   "execution_count": 10,
   "metadata": {},
   "outputs": [
    {
     "data": {
      "text/plain": [
       "train (generic function with 1 method)"
      ]
     },
     "execution_count": 10,
     "metadata": {},
     "output_type": "execute_result"
    }
   ],
   "source": [
    "function train(model, train_loader, optimizer, model_params,train_x,train_y,test_x,test_y,model_name)\n",
    "    train_losses = []\n",
    "    train_accuracy = []\n",
    "    test_losses = []\n",
    "    test_accuracy = []\n",
    "    α = 0.001 # <- stepsize; in the ML community, it is often denoted as a `learning rate η`\n",
    "    opt = optimizer(α) \n",
    "    K = 10    # <- Epoch limit; in the ML community, one full iteration over all sub loss functions is often referred to as `epoch`\n",
    "    for k in 1:K\n",
    "        for (u, w) in train_loader\n",
    "            gs = gradient(() -> Flux.Losses.crossentropy(model(u), w), model_params) # compute gradient\n",
    "            Flux.Optimise.update!(opt, model_params, gs) # update parameters\n",
    "        end\n",
    "        println(\"Epoch $k for $model_name architecture.\")\n",
    "        train_loss, train_acc = loss_and_accuracy(train_x, train_y,  model)\n",
    "        push!(train_losses, train_loss)\n",
    "        push!(train_accuracy, train_acc)\n",
    "        test_loss, test_acc = loss_and_accuracy(test_x, test_y, model)\n",
    "        push!(test_losses, test_loss)\n",
    "        push!(test_accuracy, test_acc)\n",
    "        println(\"  train_loss = $train_loss, train_accuracy = $train_acc\")\n",
    "        println(\"  test_loss = $test_loss, test_accuracy = $test_acc\")\n",
    "    end\n",
    "    return train_losses, train_accuracy, test_losses, test_accuracy\n",
    "end"
   ]
  },
  {
   "cell_type": "code",
   "execution_count": null,
   "metadata": {},
   "outputs": [
    {
     "name": "stdout",
     "output_type": "stream",
     "text": [
      "Epoch 1 for VGG1 architecture.\n",
      "  train_loss = 14074.047, train_accuracy = 0.5235\n",
      "  test_loss = 14921.775, test_accuracy = 0.48\n",
      "Epoch 2 for VGG1 architecture.\n",
      "  train_loss = 11766.3125, train_accuracy = 0.5962\n",
      "  test_loss = 13501.019, test_accuracy = 0.5183\n",
      "Epoch 3 for VGG1 architecture.\n",
      "  train_loss = 11832.637, train_accuracy = 0.5724\n",
      "  test_loss = 14412.457, test_accuracy = 0.4976\n",
      "Epoch 4 for VGG1 architecture.\n",
      "  train_loss = 10639.105, train_accuracy = 0.6253\n",
      "  test_loss = 14192.984, test_accuracy = 0.5242\n",
      "Epoch 5 for VGG1 architecture.\n",
      "  train_loss = 8198.338, train_accuracy = 0.7247\n",
      "  test_loss = 12679.185, test_accuracy = 0.5617\n",
      "Epoch 6 for VGG1 architecture.\n",
      "  train_loss = 7708.5674, train_accuracy = 0.7327\n",
      "  test_loss = 13236.449, test_accuracy = 0.55\n"
     ]
    }
   ],
   "source": [
    "vgg1_train_loss, \n",
    "vgg1_train_accuracy, \n",
    "vgg1_test_loss, \n",
    "vgg1_test_accuracy = train(model_VGG1, train_loader, ADAM, Flux.params(model_VGG1), \n",
    "    train_x, train_y,test_x, test_y, \"VGG1\")"
   ]
  },
  {
   "cell_type": "code",
   "execution_count": null,
   "metadata": {},
   "outputs": [],
   "source": [
    "vgg2_train_loss, \n",
    "vgg2_train_accuracy, \n",
    "vgg2_test_loss, \n",
    "vgg2_test_accuracy = train(model_VGG2, train_loader, ADAM ,Flux.params(model_VGG2), train_x, train_y, test_x,test_y, \"VGG2\")"
   ]
  },
  {
   "cell_type": "code",
   "execution_count": null,
   "metadata": {},
   "outputs": [],
   "source": [
    "vgg3_train_loss, \n",
    "vgg3_train_accuracy, \n",
    "vgg3_test_loss, \n",
    "vgg3_test_accuracy = train(model_VGG3, train_loader, ADAM ,Flux.params(model_VGG3), train_x, train_y, test_x,test_y,\"VGG3\")"
   ]
  },
  {
   "cell_type": "code",
   "execution_count": null,
   "metadata": {},
   "outputs": [],
   "source": []
  }
 ],
 "metadata": {
  "kernelspec": {
   "display_name": "Julia 1.6.2",
   "language": "julia",
   "name": "julia-1.6"
  },
  "language_info": {
   "file_extension": ".jl",
   "mimetype": "application/julia",
   "name": "julia",
   "version": "1.6.3"
  }
 },
 "nbformat": 4,
 "nbformat_minor": 4
}
