{
 "cells": [
  {
   "cell_type": "code",
   "execution_count": 1,
   "metadata": {},
   "outputs": [],
   "source": [
    "using Pkg\n",
    "using Flux\n",
    "using MLDatasets"
   ]
  },
  {
   "cell_type": "code",
   "execution_count": 2,
   "metadata": {},
   "outputs": [],
   "source": [
    "train_x, train_y = CIFAR10.traindata(Float32, 1:5000)\n",
    "test_x, test_y = CIFAR10.testdata(Float32, 1:2000);"
   ]
  },
  {
   "cell_type": "code",
   "execution_count": 3,
   "metadata": {},
   "outputs": [
    {
     "name": "stdout",
     "output_type": "stream",
     "text": [
      "Size of each image: (32, 32, 3, 5000)\n",
      "Label of 50th training datapoint: 0\n"
     ]
    }
   ],
   "source": [
    "println(\"Size of each image: \", size(train_x))\n",
    "println(\"Label of 50th training datapoint: \", train_y[50])\n",
    "# So here we can see that each training point is a 3D array - a 32x32 image with 3 color channels"
   ]
  },
  {
   "cell_type": "code",
   "execution_count": 4,
   "metadata": {},
   "outputs": [
    {
     "name": "stdout",
     "output_type": "stream",
     "text": [
      "number of classes: 10\n"
     ]
    }
   ],
   "source": [
    "# Since this is a multi-class classification problem, we can use one hot encoding, just like the MNIST dataset.\n",
    "# There's 10 classes just like mnist, so we encode from 0 to 9\n",
    "\n",
    "train_y, test_y = Flux.onehotbatch(train_y, 0:9), Flux.onehotbatch(test_y, 0:9)\n",
    "nclasses = length(train_y[:,1])\n",
    "println(\"number of classes: \", nclasses)"
   ]
  },
  {
   "cell_type": "code",
   "execution_count": 5,
   "metadata": {},
   "outputs": [
    {
     "data": {
      "text/plain": [
       "Chain(\n",
       "  Conv((3, 3), 3 => 32, relu),          \u001b[90m# 896 parameters\u001b[39m\n",
       "  Conv((3, 3), 32 => 32, relu),         \u001b[90m# 9_248 parameters\u001b[39m\n",
       "  MaxPool((2, 2)),\n",
       "  Flux.flatten,\n",
       "  Dense(6272, 128),                     \u001b[90m# 802_944 parameters\u001b[39m\n",
       "  Dense(128, 10),                       \u001b[90m# 1_290 parameters\u001b[39m\n",
       "  NNlib.softmax,\n",
       ")\u001b[90m                   # Total: 8 arrays, \u001b[39m814_378 parameters, 3.108 MiB."
      ]
     },
     "execution_count": 5,
     "metadata": {},
     "output_type": "execute_result"
    }
   ],
   "source": [
    "# 1 VGG Block\n",
    "model_VGG1 = Chain(Conv((3,3), 3=>32, relu),\n",
    "              Conv((3,3), 32=>32, relu),\n",
    "              MaxPool((2,2)),\n",
    "              Flux.flatten,\n",
    "              Dense(6272, 128),\n",
    "              Dense(128,10),\n",
    "              softmax)"
   ]
  },
  {
   "cell_type": "code",
   "execution_count": 6,
   "metadata": {},
   "outputs": [
    {
     "data": {
      "text/plain": [
       "Chain(\n",
       "  Conv((3, 3), 3 => 32, relu),          \u001b[90m# 896 parameters\u001b[39m\n",
       "  Conv((3, 3), 32 => 32, relu),         \u001b[90m# 9_248 parameters\u001b[39m\n",
       "  MaxPool((2, 2)),\n",
       "  Conv((3, 3), 32 => 64, relu),         \u001b[90m# 18_496 parameters\u001b[39m\n",
       "  Conv((3, 3), 64 => 64, relu),         \u001b[90m# 36_928 parameters\u001b[39m\n",
       "  MaxPool((2, 2)),\n",
       "  Flux.flatten,\n",
       "  Dense(1600, 128),                     \u001b[90m# 204_928 parameters\u001b[39m\n",
       "  Dense(128, 10),                       \u001b[90m# 1_290 parameters\u001b[39m\n",
       "  NNlib.softmax,\n",
       ")\u001b[90m                   # Total: 12 arrays, \u001b[39m271_786 parameters, 1.039 MiB."
      ]
     },
     "execution_count": 6,
     "metadata": {},
     "output_type": "execute_result"
    }
   ],
   "source": [
    "# 2 VGG Block\n",
    "model_VGG2 = Chain(Conv((3,3), 3=>32, relu),\n",
    "              Conv((3,3), 32=>32, relu),\n",
    "              MaxPool((2,2)),\n",
    "              Conv((3,3), 32=>64, relu),\n",
    "              Conv((3,3), 64=>64, relu),\n",
    "              MaxPool((2,2)),\n",
    "              Flux.flatten,\n",
    "              Dense(1600, 128),\n",
    "              Dense(128,10),\n",
    "              softmax)"
   ]
  },
  {
   "cell_type": "code",
   "execution_count": 7,
   "metadata": {},
   "outputs": [
    {
     "data": {
      "text/plain": [
       "Chain(\n",
       "  Conv((3, 3), 3 => 32, relu),          \u001b[90m# 896 parameters\u001b[39m\n",
       "  Conv((3, 3), 32 => 32, relu),         \u001b[90m# 9_248 parameters\u001b[39m\n",
       "  MaxPool((2, 2)),\n",
       "  Conv((3, 3), 32 => 64, relu),         \u001b[90m# 18_496 parameters\u001b[39m\n",
       "  Conv((3, 3), 64 => 64, relu),         \u001b[90m# 36_928 parameters\u001b[39m\n",
       "  MaxPool((2, 2)),\n",
       "  Conv((3, 3), 64 => 128, relu),        \u001b[90m# 73_856 parameters\u001b[39m\n",
       "  Conv((3, 3), 128 => 128, relu),       \u001b[90m# 147_584 parameters\u001b[39m\n",
       "  MaxPool((2, 2)),\n",
       ")\u001b[90m                   # Total: 12 arrays, \u001b[39m287_008 parameters, 1.097 MiB."
      ]
     },
     "execution_count": 7,
     "metadata": {},
     "output_type": "execute_result"
    }
   ],
   "source": [
    "# 3 VGG Block\n",
    "model_VGG3 = Chain(\n",
    "              Conv((3,3), 3=>32, relu),\n",
    "              Conv((3,3), 32=>32, relu),\n",
    "              MaxPool((2,2)),\n",
    "              Conv((3,3), 32=>64, relu),\n",
    "              Conv((3,3), 64=>64, relu),\n",
    "              MaxPool((2,2)),\n",
    "              Conv((3,3), 64=>128, relu),\n",
    "              Conv((3,3), 128=>128, relu),\n",
    "              MaxPool((2,2)))\n",
    "              #Dense(128, 10),\n",
    "              #Dense(128,10),\n",
    "              #softmax)"
   ]
  },
  {
   "cell_type": "code",
   "execution_count": 8,
   "metadata": {},
   "outputs": [
    {
     "name": "stdout",
     "output_type": "stream",
     "text": [
      "train_loss = 11512.14, train_accuracy = 0.0994\n",
      "test_loss = 4611.091, test_accuracy = 0.093\n"
     ]
    }
   ],
   "source": [
    "function loss_and_accuracy(udata, wdata, model)\n",
    "\n",
    "    ndata = size(udata,4)\n",
    "\n",
    "    ŵ = model(udata)\n",
    "    loss = Flux.crossentropy(ŵ, wdata; agg=sum)\n",
    "    accuracy = sum(Flux.onecold(ŵ) .== Flux.onecold(wdata)) / ndata\n",
    "    return loss, accuracy\n",
    "end\n",
    "\n",
    "train_loss, train_acc = loss_and_accuracy(train_x,train_y,model_VGG2)\n",
    "test_loss, test_acc = loss_and_accuracy(test_x,test_y,model_VGG2)\n",
    "println(\"train_loss = $train_loss, train_accuracy = $train_acc\")\n",
    "println(\"test_loss = $test_loss, test_accuracy = $test_acc\")\n"
   ]
  },
  {
   "cell_type": "code",
   "execution_count": 9,
   "metadata": {},
   "outputs": [],
   "source": [
    "batch_size = 128\n",
    "train_loader = Flux.Data.DataLoader((train_x, train_y), batchsize=batch_size, shuffle=true);"
   ]
  },
  {
   "cell_type": "code",
   "execution_count": 11,
   "metadata": {},
   "outputs": [
    {
     "data": {
      "text/plain": [
       "train (generic function with 1 method)"
      ]
     },
     "execution_count": 11,
     "metadata": {},
     "output_type": "execute_result"
    }
   ],
   "source": [
    "function train(model, train_loader, optimizer, model_params,train_x,train_y,test_x, test_y,model_name)\n",
    "    train_losses = []\n",
    "    train_accuracy = []\n",
    "    test_losses = []\n",
    "    test_accuracy = []\n",
    "    α = 0.001     # <- stepsize; in the ML community, it is often denoted as a `learning rate η`\n",
    "    opt = optimizer(α) \n",
    "    K = 10         # <- Epoch limit; in the ML community, one full iteration over all sub loss functions is often referred to as `epoch`\n",
    "    for k in 1:K\n",
    "        for (u, w) in train_loader\n",
    "            gs = gradient(() -> Flux.Losses.crossentropy(model(u), w), model_params) # compute gradient\n",
    "            Flux.Optimise.update!(opt, model_params, gs) # update parameters\n",
    "        end\n",
    "        println(\"Epoch $k for $model_name architecture.\")\n",
    "        train_loss, train_acc = loss_and_accuracy(train_x, train_y,  model)\n",
    "        push!(train_losses, train_loss)\n",
    "        push!(train_accuracy, train_acc)\n",
    "        test_loss, test_acc = loss_and_accuracy(test_x, test_y, model)\n",
    "        push!(test_losses, test_loss)\n",
    "        push!(test_accuracy, test_acc)\n",
    "        println(\"  train_loss = $train_loss, train_accuracy = $train_acc\")\n",
    "        println(\"  test_loss = $test_loss, test_accuracy = $test_acc\")\n",
    "    end\n",
    "    return train_losses, train_accuracy, test_losses, test_accuracy\n",
    "end"
   ]
  },
  {
   "cell_type": "code",
   "execution_count": null,
   "metadata": {},
   "outputs": [
    {
     "name": "stdout",
     "output_type": "stream",
     "text": [
      "Epoch 1 for VGG1 architecture.\n",
      "  train_loss = 7460.476, train_accuracy = 0.4698\n",
      "  test_loss = 3195.1094, test_accuracy = 0.4365\n",
      "Epoch 2 for VGG1 architecture.\n",
      "  train_loss = 6046.1875, train_accuracy = 0.5718\n",
      "  test_loss = 2961.4414, test_accuracy = 0.4745\n",
      "Epoch 3 for VGG1 architecture.\n",
      "  train_loss = 4968.785, train_accuracy = 0.6646\n",
      "  test_loss = 2864.5508, test_accuracy = 0.487\n",
      "Epoch 4 for VGG1 architecture.\n",
      "  train_loss = 4068.1018, train_accuracy = 0.7268\n",
      "  test_loss = 2866.0874, test_accuracy = 0.509\n",
      "Epoch 5 for VGG1 architecture.\n",
      "  train_loss = 3483.1042, train_accuracy = 0.777\n",
      "  test_loss = 3012.62, test_accuracy = 0.5015\n",
      "Epoch 6 for VGG1 architecture.\n",
      "  train_loss = 2892.46, train_accuracy = 0.8096\n",
      "  test_loss = 3390.0173, test_accuracy = 0.486\n"
     ]
    }
   ],
   "source": [
    "vgg1_train_loss, \n",
    "vgg1_train_accuracy, \n",
    "vgg1_test_loss, \n",
    "vgg1_test_accuracy = train(model_VGG1, train_loader, ADAM, Flux.params(model_VGG1), \n",
    "    train_x, train_y,test_x, test_y, \"VGG1\")"
   ]
  },
  {
   "cell_type": "code",
   "execution_count": null,
   "metadata": {},
   "outputs": [],
   "source": [
    "vgg2_train_loss, \n",
    "vgg2_train_accuracy, \n",
    "vgg2_test_loss, \n",
    "vgg2_test_accuracy = train(model_VGG2, train_loader, ADAM,Flux.params(model_VGG2), train_x, train_y, \"VGG2\")"
   ]
  },
  {
   "cell_type": "code",
   "execution_count": null,
   "metadata": {},
   "outputs": [],
   "source": [
    "vgg3_train_loss, \n",
    "vgg3_train_accuracy, \n",
    "vgg3_test_loss, \n",
    "vgg3_test_accuracy = train(model_VGG3, train_loader, ADAM,Flux.params(model_VGG3), train_x, train_y, \"VGG3\")"
   ]
  },
  {
   "cell_type": "code",
   "execution_count": null,
   "metadata": {},
   "outputs": [],
   "source": []
  }
 ],
 "metadata": {
  "kernelspec": {
   "display_name": "Julia 1.6.2",
   "language": "julia",
   "name": "julia-1.6"
  },
  "language_info": {
   "file_extension": ".jl",
   "mimetype": "application/julia",
   "name": "julia",
   "version": "1.6.3"
  }
 },
 "nbformat": 4,
 "nbformat_minor": 4
}
