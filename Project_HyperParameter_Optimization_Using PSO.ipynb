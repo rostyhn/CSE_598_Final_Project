{
 "cells": [
  {
   "cell_type": "markdown",
   "id": "965206a3",
   "metadata": {},
   "source": [
    "# Hyperparameter Optimization with PSO"
   ]
  },
  {
   "cell_type": "code",
   "execution_count": 1,
   "id": "59ae271e",
   "metadata": {},
   "outputs": [],
   "source": [
    "using Flux\n",
    "using MLDatasets\n",
    "using Random"
   ]
  },
  {
   "cell_type": "code",
   "execution_count": 2,
   "id": "65b4b882",
   "metadata": {},
   "outputs": [],
   "source": [
    "train_x, train_y = CIFAR10.traindata(Float32, 1:5000)\n",
    "test_x, test_y = CIFAR10.testdata(Float32, 1:5000);"
   ]
  },
  {
   "cell_type": "code",
   "execution_count": 3,
   "id": "50584226",
   "metadata": {},
   "outputs": [],
   "source": [
    "train_y, test_y = Flux.onehotbatch(train_y, 0:9), Flux.onehotbatch(test_y, 0:9);"
   ]
  },
  {
   "cell_type": "code",
   "execution_count": 4,
   "id": "ee2edf0d",
   "metadata": {},
   "outputs": [
    {
     "data": {
      "text/plain": [
       "loss_and_accuracy (generic function with 1 method)"
      ]
     },
     "execution_count": 4,
     "metadata": {},
     "output_type": "execute_result"
    }
   ],
   "source": [
    "function loss_and_accuracy(udata, wdata, model)\n",
    "    ndata = size(udata,4)\n",
    "    ŵ = model(udata)\n",
    "    loss = Flux.crossentropy(ŵ, wdata; agg=sum)\n",
    "    accuracy = sum(Flux.onecold(ŵ) .== Flux.onecold(wdata)) / ndata\n",
    "    return loss, accuracy\n",
    "end"
   ]
  },
  {
   "cell_type": "code",
   "execution_count": 5,
   "id": "fd053f0a",
   "metadata": {},
   "outputs": [],
   "source": [
    "batch_size = 8\n",
    "train_loader = Flux.Data.DataLoader((train_x, train_y), batchsize=batch_size, shuffle=true);"
   ]
  },
  {
   "cell_type": "code",
   "execution_count": 6,
   "id": "5f92d68c",
   "metadata": {},
   "outputs": [],
   "source": [
    "mutable struct Particle \n",
    "    position::Vector{Int}\n",
    "    best_position::Vector{Int}\n",
    "    best_accuracy::Float32\n",
    "    velocity::Vector{Float32}\n",
    "end"
   ]
  },
  {
   "cell_type": "code",
   "execution_count": 10,
   "id": "dab8d541",
   "metadata": {},
   "outputs": [
    {
     "data": {
      "text/plain": [
       "hyper_parameterized (generic function with 1 method)"
      ]
     },
     "execution_count": 10,
     "metadata": {},
     "output_type": "execute_result"
    }
   ],
   "source": [
    "function hyper_parameterized(particle)\n",
    "    return Chain(\n",
    "              Conv((particle.position[1],particle.position[1]), 3=>particle.position[2], relu, pad=SamePad()),\n",
    "              Conv((particle.position[3],particle.position[3]), particle.position[2]=>particle.position[4], relu, pad=SamePad()),\n",
    "              MaxPool((particle.position[5],particle.position[5])),\n",
    "              Dropout(0.2),\n",
    "              Conv((particle.position[6],particle.position[6]), particle.position[4]=>particle.position[7], relu, pad=SamePad()),\n",
    "              Conv((particle.position[8],particle.position[8]), particle.position[7]=>particle.position[9], relu, pad=SamePad()),\n",
    "              MaxPool((particle.position[10],particle.position[10])),\n",
    "              Dropout(0.2),\n",
    "              Conv((particle.position[11],particle.position[11]), particle.position[9]=>particle.position[12], relu, pad=SamePad()),\n",
    "              Conv((particle.position[13],particle.position[13]), particle.position[12]=>particle.position[14], relu, pad=SamePad()),\n",
    "              MaxPool((2,2)),\n",
    "              Dropout(0.2),\n",
    "              Flux.flatten,\n",
    "              Dense(particle.position[15]^4 * particle.position[14],particle.position[16],relu),\n",
    "              Dropout(0.2),\n",
    "              Dense(particle.position[16],10),\n",
    "              softmax)\n",
    "end"
   ]
  },
  {
   "cell_type": "code",
   "execution_count": 11,
   "id": "f3b7453f",
   "metadata": {},
   "outputs": [
    {
     "data": {
      "text/plain": [
       "hyper_parameter_optimization (generic function with 1 method)"
      ]
     },
     "execution_count": 11,
     "metadata": {},
     "output_type": "execute_result"
    }
   ],
   "source": [
    "function hyper_parameter_optimization(train_x, train_y, test_x, test_y, numparticles, ω, c1,c2)\n",
    "    lo = [2,1,2,1,2,2,1,2,1,2,2,2,2,2,2,10]\n",
    "    hi = [10,48,10,100,4,10,100,10,100,4,10,256,10,256,4,1000]\n",
    "    particles = []\n",
    "    best_accuracy = 0\n",
    "    # init particles - search space is 16 variables\n",
    "        #1   #2  #3   #4  #5   #6   #7  #8   #9  #10  #11  #12 #13 #14 #15  #16\n",
    "    # [SF1, n1, SF2, n2, SP1, SF3, n3, SF4, n4, SP2, SF5, n5, SF6, n6, SP3, SD1]\n",
    "    for i in 1:numparticles\n",
    "        SF1 = rand(2:10)\n",
    "        n1 = rand(3:48)\n",
    "        SF2 = rand(2:10)\n",
    "        n2 = rand(n1:100)\n",
    "        SP1 = rand(2:4)\n",
    "        SF3 = rand(2:10)\n",
    "        n3 = rand(n2:100)\n",
    "        SF4 = rand(2:10)\n",
    "        n4 = rand(n3:100)\n",
    "        SP2 = rand(2:4)\n",
    "        SF5 = rand(2:10)\n",
    "        n5 = rand(n4:256)\n",
    "        SF6 = rand(2:10)\n",
    "        n6 = rand(n5:256)\n",
    "        SP3 = rand(2:4)\n",
    "        SD1 = rand(10:1000)\n",
    "        push!(particles, Particle([SF1,n1,SF2,n2,SP1,SF3,n3,SF4,n4,SP2,SF5,n5,SF6,n6,SP3,SD1],\n",
    "                [SF1,n1,SF2,n2,SP1,SF3,n3,SF4,n4,SP2,SF5,n5,SF6,n6,SP3,SD1], 0, rand(Float32,16)))\n",
    "    end\n",
    "    # find best model to work towards\n",
    "    for p in particles\n",
    "        m = hyper_parameterized(p)\n",
    "        for (u,w) in train_loader\n",
    "            loss = Flux.Losses.crossentropy(m(u), w)\n",
    "            println(loss)\n",
    "        end\n",
    "        p.best_accuracy = this_acc\n",
    "        if p.best_accuracy > best_accuracy\n",
    "            best_accuracy = p.best_accuracy\n",
    "            swarm_best_position = p.position\n",
    "            println(swarm_best_position)\n",
    "        end\n",
    "    end\n",
    "    \n",
    "    println(\"Particles initalized\")\n",
    "    \n",
    "    for p in particles\n",
    "        # vector math for additional speed boost\n",
    "        # ω - inertia weight, how much the previous velocity impacts the current position\n",
    "        # c1 - how much the particle pays attention to its own best position\n",
    "        # c2 - how much the particle pays attention to the swarm's best position\n",
    "        p.velocity = (ω .* p.velocity) .+ (rand((-1.0:1.0)) * c1 .* (p.best_position .- p.position)) .+\n",
    "                (rand((-1.0:1.0)) * c2 .* (swarm_best_position .- p.position))\n",
    "        p.position = clamp.(trunc.(Int, p.position + p.velocity),1,1000)\n",
    "        model = hyper_parameterized(p)\n",
    "        this_loss, this_acc = loss_and_accuracy(train_x,train_y, model)\n",
    "                \n",
    "        if p.best_accuracy < this_acc\n",
    "            p.best_accuracy = this_acc\n",
    "            p.best_position = p.position\n",
    "        end\n",
    "                \n",
    "        if best_accuracy < this_acc\n",
    "            best_accuracy = this_acc\n",
    "            swarm_best_position = p.position\n",
    "            println(best_accuracy)\n",
    "        end\n",
    "        \n",
    "        println(swarm_best_position)\n",
    "    end\n",
    "    return swarm_best_position\n",
    "end"
   ]
  },
  {
   "cell_type": "code",
   "execution_count": null,
   "id": "c4948a7a",
   "metadata": {},
   "outputs": [],
   "source": [
    "b_p = hyper_parameter_optimization(train_x, train_y,test_x, test_y, 4, 0.5, 0.3, 0.4)"
   ]
  },
  {
   "cell_type": "code",
   "execution_count": null,
   "id": "0200b546",
   "metadata": {},
   "outputs": [],
   "source": []
  }
 ],
 "metadata": {
  "kernelspec": {
   "display_name": "Julia 1.6.2",
   "language": "julia",
   "name": "julia-1.6"
  },
  "language_info": {
   "file_extension": ".jl",
   "mimetype": "application/julia",
   "name": "julia",
   "version": "1.6.3"
  }
 },
 "nbformat": 4,
 "nbformat_minor": 5
}
